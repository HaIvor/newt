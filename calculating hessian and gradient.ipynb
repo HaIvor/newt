{
 "cells": [
  {
   "cell_type": "code",
   "execution_count": 8,
   "id": "a86cc7c9",
   "metadata": {},
   "outputs": [
    {
     "name": "stdout",
     "output_type": "stream",
     "text": [
      "2*x - 1.5*y\n"
     ]
    }
   ],
   "source": [
    "import numpy as np \n",
    "import sympy as sym\n",
    "\n",
    "\n",
    "\n",
    "x, y = sym.symbols('x y')\n",
    "function  = x**2 - (3/2)*x*y + y**2\n",
    "partial_diff = function.diff(x)\n",
    "\n",
    "print(partial_diff)"
   ]
  },
  {
   "cell_type": "code",
   "execution_count": 10,
   "id": "5649af87",
   "metadata": {},
   "outputs": [
    {
     "name": "stdout",
     "output_type": "stream",
     "text": [
      "2*x1 - 1.5*x2\n"
     ]
    }
   ],
   "source": [
    "import numpy as np \n",
    "import sympy as sym\n",
    "\n",
    "\n",
    "\n",
    "x1, x2 = sym.symbols('x1 x2')\n",
    "function  = x1**2 - (3/2)*x1*x2 + x2**2\n",
    "partial_diff = function.diff(x1)\n",
    "\n",
    "print(partial_diff)"
   ]
  },
  {
   "cell_type": "code",
   "execution_count": 12,
   "id": "dfa8f0ad",
   "metadata": {},
   "outputs": [
    {
     "name": "stdout",
     "output_type": "stream",
     "text": [
      "x1*x2\n"
     ]
    }
   ],
   "source": [
    "import numpy as np \n",
    "import sympy as sym\n",
    "\n",
    "\n",
    "\n",
    "x1, x2, x3 = sym.symbols('x1 x2 x3')\n",
    "function  = x1**2 - (3/2)*x1*x2 + x2**2 + x3*x2*x1\n",
    "partial_diff2 = function.diff(x3)\n",
    "\n",
    "print(partial_diff2)"
   ]
  },
  {
   "cell_type": "code",
   "execution_count": 14,
   "id": "24d83782",
   "metadata": {},
   "outputs": [
    {
     "name": "stdout",
     "output_type": "stream",
     "text": [
      "x1\n"
     ]
    }
   ],
   "source": [
    "partial_diff3 = partial_diff2.diff(x2)\n",
    "print(partial_diff3)"
   ]
  },
  {
   "cell_type": "code",
   "execution_count": 22,
   "id": "017f36dd",
   "metadata": {},
   "outputs": [
    {
     "name": "stdout",
     "output_type": "stream",
     "text": [
      "2*x1 - 1.5*x2\n",
      "(1, 2)\n",
      "[2*x1 - 1.5*x2 -1.5*x1 + 2*x2]\n"
     ]
    }
   ],
   "source": [
    "import numpy as np \n",
    "import sympy as sym\n",
    "\n",
    "\n",
    "\n",
    "x1, x2 = sym.symbols('x1 x2')\n",
    "function  = x1**2 - (3/2)*x1*x2 + x2**2\n",
    "partial_diff1 = function.diff(x1)\n",
    "partial_diff2 = function.diff(x2)\n",
    "print(partial_diff)\n",
    "\n",
    "gradient = np.array([\n",
    "    [partial_diff1, partial_diff2]\n",
    "])\n",
    "\n",
    "print(gradient.shape)\n",
    "print(gradient[0])"
   ]
  },
  {
   "cell_type": "code",
   "execution_count": 26,
   "id": "e7ee6d3f",
   "metadata": {},
   "outputs": [
    {
     "data": {
      "text/plain": [
       "5"
      ]
     },
     "execution_count": 26,
     "metadata": {},
     "output_type": "execute_result"
    }
   ],
   "source": [
    "def hei(x):\n",
    "    lol = x+2\n",
    "    lol2 = x+4\n",
    "    return lol, lol2 \n",
    "\n",
    "hei(3)[0]"
   ]
  },
  {
   "cell_type": "code",
   "execution_count": 29,
   "id": "12ded751",
   "metadata": {},
   "outputs": [
    {
     "name": "stdout",
     "output_type": "stream",
     "text": [
      "2*x1 - 1.5*x2\n"
     ]
    },
    {
     "data": {
      "text/latex": [
       "$\\displaystyle -2.0$"
      ],
      "text/plain": [
       "-2.00000000000000"
      ]
     },
     "execution_count": 29,
     "metadata": {},
     "output_type": "execute_result"
    }
   ],
   "source": [
    "import numpy as np \n",
    "import sympy as sym\n",
    "\n",
    "\n",
    "\n",
    "x1, x2 = sym.symbols('x1 x2')\n",
    "function  = x1**2 - (3/2)*x1*x2 + x2**2\n",
    "partial_diff = function.diff(x1)\n",
    "\n",
    "print(partial_diff)\n",
    "partial_diff.evalf(subs={x1: 2, x2: 4})"
   ]
  },
  {
   "cell_type": "code",
   "execution_count": 36,
   "id": "a724d104",
   "metadata": {},
   "outputs": [
    {
     "data": {
      "text/plain": [
       "array([[2*x1 - 1.5*x2, -1.5*x1 + 2*x2]], dtype=object)"
      ]
     },
     "execution_count": 36,
     "metadata": {},
     "output_type": "execute_result"
    }
   ],
   "source": [
    "def gradientandHessian(sp1, sp2):\n",
    "    x1, x2 = sym.symbols('x1 x2')\n",
    "    function = x1**2 - (3/2)*x1*x2 + x2**2\n",
    "    der_x1 = function.diff(x1)\n",
    "    der_x2 = function.diff(x2)\n",
    "    \n",
    "    gradient = np.array([\n",
    "        [der_x1, der_x2]\n",
    "    ])\n",
    "    \n",
    "    der_x1x1 = der_x1.diff(x1)\n",
    "    der_x2x2 = der_x2.diff(x2)\n",
    "    der_cross = der_x1.diff(x2)\n",
    "    \n",
    "    hessian = np.array([\n",
    "        [der_x1x1, der_cross],\n",
    "        [der_cross, der_x2x2]\n",
    "    ])\n",
    "    return gradient, hessian, x\n",
    "\n",
    "gradientandHessian(3,3)[0]"
   ]
  },
  {
   "cell_type": "code",
   "execution_count": 40,
   "id": "783658a7",
   "metadata": {},
   "outputs": [
    {
     "name": "stdout",
     "output_type": "stream",
     "text": [
      "[[2*x1 - 1.5*x2 -1.5*x1 + 2*x2]]\n",
      "--\n",
      "[[2 -1.50000000000000]\n",
      " [-1.50000000000000 2]]\n",
      "values..\n",
      "[[-2.00000000000000 5.00000000000000]]\n"
     ]
    }
   ],
   "source": [
    "x1, x2 = sym.symbols('x1 x2')\n",
    "function = x1**2 - (3/2)*x1*x2 + x2**2\n",
    "der_x1 = function.diff(x1)\n",
    "der_x2 = function.diff(x2)\n",
    "\n",
    "der_x1_values = function.diff(x1).evalf(subs={x1: 2, x2: 4})\n",
    "der_x2_values = function.diff(x2).evalf(subs={x1: 2, x2: 4})\n",
    "\n",
    "gradient = np.array([\n",
    "    [der_x1, der_x2]\n",
    "])\n",
    "\n",
    "gradient_values = np.array([\n",
    "    [der_x1_values, der_x2_values]\n",
    "])\n",
    "\n",
    "der_x1x1 = der_x1.diff(x1)\n",
    "der_x2x2 = der_x2.diff(x2)\n",
    "der_cross = der_x1.diff(x2)\n",
    "\n",
    "der_x1x1_values = der_x1.diff(x1).evalf(subs={x1: 2, x2: 4})\n",
    "der_x2x2_values = der_x2.diff(x2)\n",
    "der_cross_values = der_x1.diff(x2)\n",
    "\n",
    "hessian = np.array([\n",
    "    [der_x1x1, der_cross],\n",
    "    [der_cross, der_x2x2]\n",
    "])\n",
    "    \n",
    "print(gradient)\n",
    "print(\"--\")\n",
    "print(hessian)\n",
    "print(\"values..\")\n",
    "print(gradient_values)\n",
    "    "
   ]
  },
  {
   "cell_type": "code",
   "execution_count": null,
   "id": "3bcc01b6",
   "metadata": {},
   "outputs": [],
   "source": []
  }
 ],
 "metadata": {
  "kernelspec": {
   "display_name": "Python 3 (ipykernel)",
   "language": "python",
   "name": "python3"
  },
  "language_info": {
   "codemirror_mode": {
    "name": "ipython",
    "version": 3
   },
   "file_extension": ".py",
   "mimetype": "text/x-python",
   "name": "python",
   "nbconvert_exporter": "python",
   "pygments_lexer": "ipython3",
   "version": "3.10.6"
  }
 },
 "nbformat": 4,
 "nbformat_minor": 5
}
